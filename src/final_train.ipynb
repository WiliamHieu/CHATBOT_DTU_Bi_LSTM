{
 "cells": [
  {
   "cell_type": "code",
   "execution_count": 27,
   "metadata": {},
   "outputs": [],
   "source": [
    "# !pip install gensim==3.8.3"
   ]
  },
  {
   "cell_type": "markdown",
   "metadata": {},
   "source": [
    "# Khai báo các thư viện sử dụng"
   ]
  },
  {
   "cell_type": "code",
   "execution_count": 28,
   "metadata": {},
   "outputs": [],
   "source": [
    "import nltk\n",
    "import tensorflow as tf\n",
    "import json\n",
    "import pandas as pd\n",
    "import numpy as np\n",
    "from tqdm import tqdm\n",
    "from keras.preprocessing.text import Tokenizer\n",
    "tqdm.pandas(desc=\"progress-bar\")\n",
    "from gensim.models import Doc2Vec\n",
    "from sklearn.model_selection import train_test_split\n",
    "from keras.preprocessing.sequence import pad_sequences\n",
    "from gensim.models.doc2vec import TaggedDocument\n",
    "import re\n",
    "import matplotlib.pyplot as plt\n",
    "import pickle\n",
    "from sklearn import utils\n",
    "#nltk.download()"
   ]
  },
  {
   "cell_type": "code",
   "execution_count": 29,
   "metadata": {},
   "outputs": [],
   "source": [
    "#import keras\n",
    "#import tensorflow as tf\n",
    "#import gensim\n",
    "\n",
    "#print(\"gensum:\", gensim.__version__)\n",
    "#print(\"Keras version:\", keras.__version__)\n",
    "#print(\"TensorFlow version:\", tf.__version__)"
   ]
  },
  {
   "cell_type": "code",
   "execution_count": 30,
   "metadata": {},
   "outputs": [],
   "source": [
    "#import sys\n",
    "#!{sys.executable} -m pip install tensorflow"
   ]
  },
  {
   "cell_type": "markdown",
   "metadata": {},
   "source": [
    "Đường dẫn đến folder chứa project"
   ]
  },
  {
   "cell_type": "code",
   "execution_count": 31,
   "metadata": {},
   "outputs": [],
   "source": [
    "origin_path = 'C:/Data Science/CHATBOT_DTU_Bi_LSTM'"
   ]
  },
  {
   "cell_type": "code",
   "execution_count": 32,
   "metadata": {},
   "outputs": [],
   "source": [
    "# Khai báo từ điển để chuyển tiếng việt CÓ dấu về tiếng việt KHÔNG dấu \n",
    "patterns = {\n",
    "    '[àáảãạăắằẵặẳâầấậẫẩ]': 'a',\n",
    "    '[đ]': 'd',\n",
    "    '[èéẻẽẹêềếểễệ]': 'e',\n",
    "    '[ìíỉĩị]': 'i',\n",
    "    '[òóỏõọôồốổỗộơờớởỡợ]': 'o',\n",
    "    '[ùúủũụưừứửữự]': 'u',\n",
    "    '[ỳýỷỹỵ]': 'y'\n",
    "}\n",
    "# Khai báo các ký tự đặc biệt để loại bỏ\n",
    "special_character = r'[!“”\"#$%&\\'()*+,-./:;<=>?@[\\]^_`{|}~]'\n",
    "\n",
    "# Khai báo danh sách các từ cần loại bỏ\n",
    "stop_words = ['bạn', 'ban', 'anh', 'chị', 'chi', 'em', 'shop', 'bot', 'ad', 'là', 'có', 'và', 'hoặc', 'nếu', 'vậy', 'thế', 'còn']\n",
    "\n",
    "# Hàm làm sạch các ký tự, chuyển thành tiếng việt không dấu và chuyển chữ thành chữ thường\n",
    "def convert_to_no_accents(text):\n",
    "    output = text\n",
    "    for regex, replace in patterns.items():\n",
    "        output = re.sub(regex, replace, output)\n",
    "        output = re.sub(regex.upper(), replace.upper(), output)\n",
    "        output = re.sub(special_character, '', output)\n",
    "        output = output.lower()\n",
    "    return output"
   ]
  },
  {
   "cell_type": "markdown",
   "metadata": {},
   "source": [
    "Lấy dữ liệu đọc từ file JSON"
   ]
  },
  {
   "cell_type": "code",
   "execution_count": 33,
   "metadata": {},
   "outputs": [],
   "source": [
    "trains = {}\n",
    "# response = {}\n",
    "with open(f'{origin_path}/data/chatbot_dataset_CMU.json', 'r', encoding='utf-8') as json_data:\n",
    "    intents = json.load(json_data)\n",
    "    for one_intent in intents['intents']:\n",
    "        sentences = one_intent['patterns']\n",
    "        trains[one_intent['tag']] = sentences\n",
    "        # response[one_intent['tag']] = one_intent['responses']"
   ]
  },
  {
   "cell_type": "markdown",
   "metadata": {},
   "source": [
    "Làm sạch dữ liệu và gán nhãn tương ứng"
   ]
  },
  {
   "cell_type": "code",
   "execution_count": 34,
   "metadata": {},
   "outputs": [],
   "source": [
    "classes = {}\n",
    "X_dev = []\n",
    "y_dev = []\n",
    "for i, (key, value) in enumerate(trains.items()):\n",
    "    X_dev += [convert_to_no_accents(v) for v in value]\n",
    "    y_dev += [i] * len(value) \n",
    "    classes[i] = key\n",
    "    "
   ]
  },
  {
   "cell_type": "markdown",
   "metadata": {},
   "source": [
    "Lưu danh sách class name"
   ]
  },
  {
   "cell_type": "code",
   "execution_count": 35,
   "metadata": {},
   "outputs": [
    {
     "data": {
      "text/plain": [
       "{0: 'Cách để đánh giá rèn luyện trên mydtu',\n",
       " 1: 'Khi nào mở lại đánh giá rèn luyện vậy ?',\n",
       " 2: 'Chuyện gì xảy ra khi không đánh giá điểm rèn luyện ?',\n",
       " 3: 'Không khai báo ngoại trú đánh giá điểm rèn luyện được không ?',\n",
       " 4: 'Khi nào mở khai báo ngoại trú ?',\n",
       " 5: 'Tích lũy điểm là gì?',\n",
       " 6: 'Cách để cải thiện điểm rèn luyện ?',\n",
       " 7: 'Cách khai báo ngoại trú ?',\n",
       " 8: 'Đánh giá giảng viên bằng cách nào ?',\n",
       " 9: 'Khám sức khỏe bận có thể khám chung lớp khác được không ?',\n",
       " 10: 'Có cần phải mặc áo trường quốc tế khi học không thầy?',\n",
       " 11: 'BHYT nộp ở đâu ?',\n",
       " 12: 'Quy định và quy chế về gian lận trong phòng thi',\n",
       " 13: 'Mua sách giáo khoa ở đâu ?',\n",
       " 14: 'Cách liên hệ giảng viên cố vấn',\n",
       " 15: 'Tìm phòng học theo ký hiệu trong thời khóa biểu như thế nào?',\n",
       " 16: 'Mất đồ bây giờ làm sao ?',\n",
       " 17: 'Thời gian mở xét tuyển là khi nào?',\n",
       " 18: 'Cách nộp bài tập về nhà trên assiment?',\n",
       " 19: 'Các thông tin khác ?',\n",
       " 20: 'Điều kiện và cách làm đơn phúc khảo bài thi?',\n",
       " 21: 'Điều kiện và cách làm giấy tạm hoãn nghĩa vụ quân sự?',\n",
       " 22: 'Điều kiện và cách làm đơn học vượt ?',\n",
       " 23: 'Điều kiện và cách làm đơn chuyển ngành',\n",
       " 24: 'Điều kiện và cách chuyển điểm?',\n",
       " 25: 'Điều kiện và cách học lại môn học ?',\n",
       " 26: 'Điều kiện và cách làm đơn bảo lưu ?',\n",
       " 27: 'Điều kiện và cách làm thủ tục nhập học lại ?',\n",
       " 28: 'Cách đổi lớp sinh hoạt ?',\n",
       " 29: 'Điều kiện và cách đổi lớp học môn tiếng anh ?',\n",
       " 30: 'Lớp học khác gì lớp sinh hoặc ?',\n",
       " 31: 'Điều kiện và Cách làm đơn tạm hoãn thi và ghép thi ?',\n",
       " 32: 'Anh em học chung có miễn giảm học phí không?',\n",
       " 33: 'Làm sao để vay tiền theo diện sinh viên',\n",
       " 34: 'Điều kiện và cách làm đơn thôi học ?',\n",
       " 35: 'Cách làm đơn mở lớp ?',\n",
       " 36: 'Làm sao để truyển trường',\n",
       " 37: 'Cách làm đơn xem xét tham dự tốt nghiệp đtqt ?',\n",
       " 38: 'Điều kiện và cách hủy môn đã đăng ký ?',\n",
       " 39: 'Khi nào nhận đượckết quả thông báo của đơn từ ?',\n",
       " 40: 'Điều kiện và cách làm làm đơn gia hạn nộp học phí ?',\n",
       " 41: 'Điều kiện và cách đăng ký môn học trên mydtu?',\n",
       " 42: 'Điều kiện và cách làm đơn đăng ký tín chỉ ?',\n",
       " 43: 'Làm sao biết được cô nào dạy lớp nào trước khi đăng ký ?',\n",
       " 44: 'Học phí ngành CMU thuộc trường đào tạo quốc tế là bao nhiêu ?',\n",
       " 45: 'Ngoài học phí thì còn phí gì trong quá trình học không ?',\n",
       " 46: 'Học phí trường đào tạo quốc tế là bao nhiêu ?',\n",
       " 47: 'Học phí có tăng theo từng năm không ?',\n",
       " 48: 'Học phí có tăng không và cách kiểm tra thông tin học phí ?',\n",
       " 49: 'Cách để thanh toán học phí',\n",
       " 50: 'Có thể nộp học phí muộn không ?',\n",
       " 51: 'Xét học bổng theo hình thức nào?',\n",
       " 52: 'Mydtu bị lỗi ?',\n",
       " 53: 'Cách tín tiền số tín chỉ ?',\n",
       " 54: 'Tác dụng của hóa đơn hoặc biên lai thanh toán ?',\n",
       " 55: 'Làm sao để nhận thông tin học phí ?',\n",
       " 56: 'Học lại môn có cần trả học phí không',\n",
       " 57: 'Một học kỳ gồm bao nhiêu chỉ ?',\n",
       " 58: 'Học lại có ảnh hưởng gì không ?',\n",
       " 59: 'Sinh viên cmu cần bao nhiêu chỉ để tốt nghiệp? ',\n",
       " 60: 'Những môn có lý thuyết và thực hành làm sao để học lại ?',\n",
       " 61: 'Điều kiện để hủy môn học hè ?',\n",
       " 62: 'Sau khi đăng ký có thể đổi môn bóng đá sang môn khác được không ?',\n",
       " 63: 'Thông tin về học hè ?',\n",
       " 64: 'Điều kiện qua môn là gì ?',\n",
       " 65: 'Học hè có lợi gì ?',\n",
       " 66: 'Sinh viên phải học bao nhiêu học kỳ?',\n",
       " 67: 'Tại sao phải học hóa, lý toán, triết đại cương?',\n",
       " 68: 'Cách đăng kí môn học ?',\n",
       " 69: 'Cách để theo dõi tiến trình học tập ?',\n",
       " 70: 'Số tín chỉ mỗi môn là bao nhiêu ?',\n",
       " 71: 'Các ngành khác học chung được không ?',\n",
       " 72: 'Tín chỉ đại học là gì?',\n",
       " 73: 'Rớt bao nhiêu chỉ sẽ bị thôi học ?',\n",
       " 74: 'Sự khác biệt ở tín chỉ giữa đào tạo quốc tế và ngành thường',\n",
       " 75: 'Môn nào có thể tự chọn ?',\n",
       " 76: 'Thông tin về ký túc xá duy tân ?',\n",
       " 77: 'Văn phòng của Đào tạo quốc tế ở đâu?',\n",
       " 78: 'Làm sao để liên hệ thầy cô?',\n",
       " 79: 'Thư viện của trường năm ở đâu ?',\n",
       " 80: 'Thông báo lịch nghỉ xem ở đâu ?',\n",
       " 81: 'Khi nào lịch mới thay đổi ?',\n",
       " 82: 'Sinh viên năm nhất khi nào đi ngoại khóa hay thăm doanh nghiệp ?',\n",
       " 83: 'Sinh viên có những hoạt động ngoại khóa và câu lạc bộ nào ?',\n",
       " 84: 'chatbot được tạo nên bởi ai?',\n",
       " 85: 'Điểm nổi bật chương trình CMU là gì ?',\n",
       " 86: 'Làm thế nào để truy cập tài nguyên thư viện và nền tảng học trực tuyến?',\n",
       " 87: 'Trường có phòng ban tư vấn tâm lý không ?',\n",
       " 88: 'Sinh viên học bao nhiêu kỳ ?',\n",
       " 89: 'Cách xem lịch thi ?',\n",
       " 90: 'Ra trường thì có đi nghĩa vụ quân sự không ?',\n",
       " 91: 'Cách làm lại thẻ sinh viên?',\n",
       " 92: 'Tìm thông tin nộp thẻ giữ xe ở đâu?',\n",
       " 93: 'Chương trình CMU có phải du học tại chỗ ?',\n",
       " 94: 'Làm sao để lấy thông tin trường?',\n",
       " 95: 'Làm sao để mua áo quần thể dục ? ',\n",
       " 96: 'Trường có hỗ trợ tìm trọ không ?',\n",
       " 97: 'Cơ hội du học và thực tập nước ngoài ?',\n",
       " 98: 'Trường có hay tổ chức giải thể thao giữa các khoa không?',\n",
       " 99: 'Lấy thông tin các workshop và hội thảo ở đâu ?',\n",
       " 100: 'Đại học Duy Tân có bao nhiêu khoa và ngành học?',\n",
       " 101: 'Đại học Duy Tân hiện đang ở xếp hạng thứ bao nhiên trên thế giới?',\n",
       " 102: 'Trường có tổ chức các sự kiện tình nguyện không ?',\n",
       " 103: 'Trường đại học duy tân có những cơ sở nào ?',\n",
       " 104: 'Mpm có hợp tác với trường không ?',\n",
       " 105: 'Tốt nghiệp làm tại trường được không',\n",
       " 106: 'Làm sao để học 2 ngành cùng lúc ?',\n",
       " 107: 'Tìm tài liệu học tập ở đâu ?',\n",
       " 108: 'Trường có xét tuyển thẳng học sinh theo diện nào ?',\n",
       " 109: 'Sau khi đăng ký xét tuyển và nhận được gmail thông báo kết quả xét tuyển học bạ trực tuyến thì phải làm sao?',\n",
       " 110: 'Văn phòng khoa trường khoa học máy tính ở đâu?',\n",
       " 111: 'Văn phòng khoa trường kinh tế ở đâu?',\n",
       " 112: 'Văn phòng khoa trường y dược ở đâu?',\n",
       " 113: 'Văn phòng khoa trường ngoại ngữ - xã hội và nhân văn ở đâu?',\n",
       " 114: 'Văn phòng khoa trường du lịch ở đâu?',\n",
       " 115: 'Văn phòng khoa viện quản lý Nam ở đâu?',\n",
       " 116: 'Trường có canteen không?',\n",
       " 117: 'Có thi tiếng anh đầu vào không?',\n",
       " 118: 'Có thi tin học đầu vào không?',\n",
       " 119: 'Quy định và quy chế của trường như thế nào?',\n",
       " 120: 'Duy tân có dạy sau đại học không ?',\n",
       " 121: 'Văn phòng Đoàn Thanh Niên ở đâu ?',\n",
       " 122: 'Tìm Trung tâm Tuyển Sinh ở đâu ?',\n",
       " 123: 'Phòng Công tác Sinh Viên tìm ở đâu ?',\n",
       " 124: 'sakai là gì?',\n",
       " 125: 'Tỷ lệ sinh viên có việc làm sau khi tốt nghiệp là bao nhiêu?',\n",
       " 126: 'Trường nằm ở đâu? Giao thông đi lại như thế nào?',\n",
       " 127: 'Đội ngũ giảng viên của trường có trình độ chuyên môn như thế nào?',\n",
       " 128: 'Điều kiện nhận bằng tốt nghiệp là gì?',\n",
       " 129: 'Điều kiện để được làm capstone là gì?',\n",
       " 130: 'Sinh viên CMU có cần thi tin học không ?',\n",
       " 131: 'Khi nào học quân sự ?',\n",
       " 132: 'Đầu ra tiếng anh của trường đào tạo quốc tế bao nhiêu ?',\n",
       " 133: 'Có thể học các ngôn ngữ khác ngoài tiếng anh để ra trường không?',\n",
       " 134: 'Cách xét loại bằng tốt nghiệp ?',\n",
       " 135: 'Điều kiện để nghiên cứu khoa học ?',\n",
       " 136: 'Chương trình CMU có yêu cầu thực tập không ?',\n",
       " 137: 'Thông tin về sự kiện tốt nghiệp thế nào ?',\n",
       " 138: 'Cách thức, thời gian địa điểm nhận bằng, giấy khen, đồ được cấp phát,…?',\n",
       " 139: 'Làm sao biết mình bằng gì ?',\n",
       " 140: 'Một dự án nghiên cứu khoa học cần bao nhiêu thành viên trong team?',\n",
       " 141: 'Capstone cần bao nhiêu thành viên ?',\n",
       " 142: 'Có thể tốt nghiệp sớm nhất bao lâu ?',\n",
       " 143: 'Đồ án ghi bằng tiếng anh hay tiếng việt ?',\n",
       " 144: 'Sinh viên phần mềm cần điều kiện gì để làm capstone ?',\n",
       " 145: 'Sinh viên ngành hệ thống thông tin quản lí cần điều kiện gì để làm capstone ?',\n",
       " 146: 'Cap1 có cần nộp tiền không ?',\n",
       " 147: 'Quy trình nhận bằng tốt nghiệp tại Đại học Duy Tân là gì',\n",
       " 148: 'Có thể nhận bằng sớm đươc không ?',\n",
       " 149: 'Sinh viên xuất sắc sau khi tốt nghiệp có những ưu đãi gì ?',\n",
       " 150: 'Các thủ tục để cấp lại bằng khi bị mất ?',\n",
       " 151: 'Trường có đợt xét tốt nghiệp trễ không ?',\n",
       " 152: 'Bằng tốt nghiệp trông thế nào ?',\n",
       " 153: 'Lộ trình dành cho backend bao gồm những gì ?',\n",
       " 154: 'Lương nghề này cơ bản của ngành IT là bao nhiêu ?',\n",
       " 155: 'Nên chọn ngôn ngữ lập trình nào ?',\n",
       " 156: 'Ngành hệ thông thông tin ra trường làm gì',\n",
       " 157: 'Ngành an ninh mạng ra trường ra trường làm gì',\n",
       " 158: 'Làm sao để chọn ngành thích hợp ?',\n",
       " 159: 'Dùng máy tính kém mà học It thì làm thế nào ?',\n",
       " 160: 'Làm sao để trở thành một kỹ sư phần mềm chuyên nghiệp ?',\n",
       " 161: 'Cách để học lập trình ở đại học hiệu quả ?',\n",
       " 162: 'Hướng đi trong ngành CNPM sau khi đi ra trường?',\n",
       " 163: 'Trường có hỗ trợ cách làm cv hoặc đơn xin việc không ?\\n\\n\\n\\n',\n",
       " 164: 'Trường có hỗ trợ cách làm cv hoặc đơn xin việc không ?\\n\\n\\n\\n\\n\\n',\n",
       " 165: 'Yếu tiếng anh có theo nổi chương trình quốc tế không ?',\n",
       " 166: 'Học IT sau 35 tuổi có thất nghiệp không ?',\n",
       " 167: 'Định hướng nghề nghiệp là gì và tại sao lại quan trọng với sinh viên?',\n",
       " 168: 'Cách học tiếng anh',\n",
       " 169: 'Định hướng nghề nghiệp nên dựa trên sự quan tâm cá nhân hay nhu cầu của thị trường lao động?',\n",
       " 170: 'Có nên tìm kiếm kinh nghiệm làm việc ở các công ty khởi nghiệp hay tập đoàn lớn?',\n",
       " 171: 'Sinh viên cần kĩ năng mềm gì để học tại đại học ?',\n",
       " 172: 'Nên chuẩn bị gì trước khi đi thực tập ?',\n",
       " 173: 'Cách phân chia thời gian học tập hợp lí?',\n",
       " 174: 'Làm thế nào để giữ được sự cân bằng giữa học tập và cuộc sống cá nhân?',\n",
       " 175: 'Có nên đi làm thêm part-time đối với sinh viên học công nghệ thông tin không?',\n",
       " 176: 'Chao_hoi',\n",
       " 177: 'Cam_on',\n",
       " 178: 'Than_Phien',\n",
       " 179: 'Chươnng trình CMU có bao nhiêu ngành?',\n",
       " 180: 'Công dụng của chatbot',\n",
       " 181: 'Tam_Biet'}"
      ]
     },
     "execution_count": 35,
     "metadata": {},
     "output_type": "execute_result"
    }
   ],
   "source": [
    "pickle.dump(classes, open(f\"{origin_path}/model/classes.pkl\", \"wb\"))\n",
    "classes"
   ]
  },
  {
   "cell_type": "markdown",
   "metadata": {},
   "source": [
    "Chuyển dữ liệu về dạng Data Frame"
   ]
  },
  {
   "cell_type": "code",
   "execution_count": 36,
   "metadata": {},
   "outputs": [
    {
     "data": {
      "text/html": [
       "<div>\n",
       "<style scoped>\n",
       "    .dataframe tbody tr th:only-of-type {\n",
       "        vertical-align: middle;\n",
       "    }\n",
       "\n",
       "    .dataframe tbody tr th {\n",
       "        vertical-align: top;\n",
       "    }\n",
       "\n",
       "    .dataframe thead th {\n",
       "        text-align: right;\n",
       "    }\n",
       "</style>\n",
       "<table border=\"1\" class=\"dataframe\">\n",
       "  <thead>\n",
       "    <tr style=\"text-align: right;\">\n",
       "      <th></th>\n",
       "      <th>question</th>\n",
       "      <th>category</th>\n",
       "    </tr>\n",
       "  </thead>\n",
       "  <tbody>\n",
       "    <tr>\n",
       "      <th>0</th>\n",
       "      <td>huong dan danh gia ren luyen tren mydtu</td>\n",
       "      <td>0</td>\n",
       "    </tr>\n",
       "    <tr>\n",
       "      <th>1</th>\n",
       "      <td>can lam nhung gi de danh gia ren luyen tren mydtu</td>\n",
       "      <td>0</td>\n",
       "    </tr>\n",
       "    <tr>\n",
       "      <th>2</th>\n",
       "      <td>cac buoc de danh gia ren luyen tren mydtu</td>\n",
       "      <td>0</td>\n",
       "    </tr>\n",
       "    <tr>\n",
       "      <th>3</th>\n",
       "      <td>danh gia ren luyen tren mydtu sao cho dung</td>\n",
       "      <td>0</td>\n",
       "    </tr>\n",
       "    <tr>\n",
       "      <th>4</th>\n",
       "      <td>co phuong phap cu the nao de danh gia diem ren...</td>\n",
       "      <td>0</td>\n",
       "    </tr>\n",
       "    <tr>\n",
       "      <th>...</th>\n",
       "      <td>...</td>\n",
       "      <td>...</td>\n",
       "    </tr>\n",
       "    <tr>\n",
       "      <th>3542</th>\n",
       "      <td>lam sao de dung chatbot</td>\n",
       "      <td>180</td>\n",
       "    </tr>\n",
       "    <tr>\n",
       "      <th>3543</th>\n",
       "      <td>bye nha</td>\n",
       "      <td>181</td>\n",
       "    </tr>\n",
       "    <tr>\n",
       "      <th>3544</th>\n",
       "      <td>tam biet</td>\n",
       "      <td>181</td>\n",
       "    </tr>\n",
       "    <tr>\n",
       "      <th>3545</th>\n",
       "      <td>hen gap lai</td>\n",
       "      <td>181</td>\n",
       "    </tr>\n",
       "    <tr>\n",
       "      <th>3546</th>\n",
       "      <td>chao tam biet</td>\n",
       "      <td>181</td>\n",
       "    </tr>\n",
       "  </tbody>\n",
       "</table>\n",
       "<p>3547 rows × 2 columns</p>\n",
       "</div>"
      ],
      "text/plain": [
       "                                               question  category\n",
       "0               huong dan danh gia ren luyen tren mydtu         0\n",
       "1     can lam nhung gi de danh gia ren luyen tren mydtu         0\n",
       "2             cac buoc de danh gia ren luyen tren mydtu         0\n",
       "3            danh gia ren luyen tren mydtu sao cho dung         0\n",
       "4     co phuong phap cu the nao de danh gia diem ren...         0\n",
       "...                                                 ...       ...\n",
       "3542                           lam sao de dung chatbot        180\n",
       "3543                                            bye nha       181\n",
       "3544                                           tam biet       181\n",
       "3545                                        hen gap lai       181\n",
       "3546                                      chao tam biet       181\n",
       "\n",
       "[3547 rows x 2 columns]"
      ]
     },
     "execution_count": 36,
     "metadata": {},
     "output_type": "execute_result"
    }
   ],
   "source": [
    "df = pd.DataFrame({'question': X_dev, \"category\": y_dev})\n",
    "df"
   ]
  },
  {
   "cell_type": "code",
   "execution_count": 37,
   "metadata": {},
   "outputs": [
    {
     "data": {
      "text/plain": [
       "182"
      ]
     },
     "execution_count": 37,
     "metadata": {},
     "output_type": "execute_result"
    }
   ],
   "source": [
    "num_class = len(list(set(df['category'].to_list())))\n",
    "num_class"
   ]
  },
  {
   "cell_type": "markdown",
   "metadata": {},
   "source": [
    "Chia dữ liệu huấn luyện, đánh giá"
   ]
  },
  {
   "cell_type": "code",
   "execution_count": 38,
   "metadata": {},
   "outputs": [],
   "source": [
    "train, test = train_test_split(df, test_size=0.05 , random_state=42)"
   ]
  },
  {
   "cell_type": "code",
   "execution_count": 39,
   "metadata": {},
   "outputs": [],
   "source": [
    "# Nhận một đoạn văn bản làm đầu vào và trả về danh sách các từ đã được \"tokenized\"\n",
    "def tokenize_text(text):\n",
    "    tokens = []\n",
    "    for sent in nltk.sent_tokenize(text):\n",
    "        for word in nltk.word_tokenize(sent):\n",
    "            if len(word) <= 0:\n",
    "                continue\n",
    "            tokens.append(word.lower())\n",
    "    return tokens\n",
    "train_tagged = train.apply(lambda r: TaggedDocument(words=tokenize_text(r['question']), tags=[r.category]), axis=1)\n",
    "test_tagged = test.apply(lambda r: TaggedDocument(words=tokenize_text(r['question']), tags=[r.category]), axis=1)"
   ]
  },
  {
   "cell_type": "code",
   "execution_count": 40,
   "metadata": {},
   "outputs": [],
   "source": [
    "    max_fatures = 150 # Số lượng features tối đa\n",
    "    MAX_SEQUENCE_LENGTH = 50 # Số lượng từ tối đa"
   ]
  },
  {
   "cell_type": "code",
   "execution_count": 41,
   "metadata": {},
   "outputs": [],
   "source": [
    "# khởi tạo một tokenizer với các cấu hình được sử dụng để tokenize các văn bản\n",
    "tokenizer = Tokenizer(num_words=max_fatures, split=' ', lower=True)"
   ]
  },
  {
   "cell_type": "code",
   "execution_count": 42,
   "metadata": {},
   "outputs": [],
   "source": [
    "tokenizer.fit_on_texts(df['question'].values)"
   ]
  },
  {
   "cell_type": "code",
   "execution_count": 43,
   "metadata": {},
   "outputs": [],
   "source": [
    "# Lưu tokenizer\n",
    "with open(f\"{origin_path}/model/tokenizer.pkl\", 'wb') as handle:\n",
    "    pickle.dump(tokenizer, handle, protocol=pickle.HIGHEST_PROTOCOL)"
   ]
  },
  {
   "cell_type": "code",
   "execution_count": 44,
   "metadata": {},
   "outputs": [],
   "source": [
    "# # Tải tokenizer\n",
    "# with open(f\"{origin_path}/model/tokenizer.pkl\", 'rb') as handle:\n",
    "#     loaded_tokenizer = pickle.load(handle)"
   ]
  },
  {
   "cell_type": "code",
   "execution_count": 45,
   "metadata": {},
   "outputs": [
    {
     "name": "stdout",
     "output_type": "stream",
     "text": [
      "Found 3547 unique tokens.\n"
     ]
    }
   ],
   "source": [
    "# Chuyển đổi các văn bản thành các chuỗi các chỉ mục tương ứng trong từ điển\n",
    "X = tokenizer.texts_to_sequences(df['question'].values)\n",
    "X = pad_sequences(X)\n",
    "print('Found %s unique tokens.' % len(X))"
   ]
  },
  {
   "cell_type": "code",
   "execution_count": 46,
   "metadata": {},
   "outputs": [
    {
     "name": "stderr",
     "output_type": "stream",
     "text": [
      "100%|██████████| 3369/3369 [00:00<?, ?it/s]\n"
     ]
    }
   ],
   "source": [
    "# Tạo và huấn luyện một mô hình \"Doc2Vec\" (Word Embedding) \n",
    "d2v_model = Doc2Vec(dm=1, dm_mean=1, window=8, min_count=1, workers=1, alpha=0.065, min_alpha=0.065)\n",
    "d2v_model.build_vocab([x for x in tqdm(train_tagged.values)])"
   ]
  },
  {
   "cell_type": "code",
   "execution_count": 47,
   "metadata": {},
   "outputs": [
    {
     "name": "stderr",
     "output_type": "stream",
     "text": [
      "100%|██████████| 3369/3369 [00:00<?, ?it/s]\n",
      "100%|██████████| 3369/3369 [00:00<?, ?it/s]\n",
      "100%|██████████| 3369/3369 [00:00<?, ?it/s]\n",
      "100%|██████████| 3369/3369 [00:00<?, ?it/s]\n",
      "100%|██████████| 3369/3369 [00:00<?, ?it/s]\n",
      "100%|██████████| 3369/3369 [00:00<?, ?it/s]\n",
      "100%|██████████| 3369/3369 [00:00<?, ?it/s]\n",
      "100%|██████████| 3369/3369 [00:00<?, ?it/s]\n",
      "100%|██████████| 3369/3369 [00:00<?, ?it/s]\n",
      "100%|██████████| 3369/3369 [00:00<?, ?it/s]\n",
      "100%|██████████| 3369/3369 [00:00<?, ?it/s]\n",
      "100%|██████████| 3369/3369 [00:00<?, ?it/s]\n",
      "100%|██████████| 3369/3369 [00:00<?, ?it/s]\n",
      "100%|██████████| 3369/3369 [00:00<?, ?it/s]\n",
      "100%|██████████| 3369/3369 [00:00<?, ?it/s]\n",
      "100%|██████████| 3369/3369 [00:00<?, ?it/s]\n",
      "100%|██████████| 3369/3369 [00:00<?, ?it/s]\n",
      "100%|██████████| 3369/3369 [00:00<?, ?it/s]\n",
      "100%|██████████| 3369/3369 [00:00<?, ?it/s]\n",
      "100%|██████████| 3369/3369 [00:00<?, ?it/s]\n",
      "100%|██████████| 3369/3369 [00:00<?, ?it/s]\n",
      "100%|██████████| 3369/3369 [00:00<00:00, 574859.04it/s]\n",
      "100%|██████████| 3369/3369 [00:00<?, ?it/s]\n",
      "100%|██████████| 3369/3369 [00:00<00:00, 5374899.27it/s]\n",
      "100%|██████████| 3369/3369 [00:00<?, ?it/s]\n",
      "100%|██████████| 3369/3369 [00:00<?, ?it/s]\n",
      "100%|██████████| 3369/3369 [00:00<?, ?it/s]\n",
      "100%|██████████| 3369/3369 [00:00<?, ?it/s]\n",
      "100%|██████████| 3369/3369 [00:00<?, ?it/s]\n",
      "100%|██████████| 3369/3369 [00:00<?, ?it/s]\n"
     ]
    }
   ],
   "source": [
    "# Huấn luyện mô hình Doc2Vec trong 30 epochs\n",
    "for epoch in range(30):\n",
    "    d2v_model.train(utils.shuffle([x for x in tqdm(train_tagged.values)]), total_examples=len(train_tagged.values), epochs=1)\n",
    "    d2v_model.alpha -= 0.002\n",
    "    d2v_model.min_alpha = d2v_model.alpha"
   ]
  },
  {
   "cell_type": "code",
   "execution_count": 48,
   "metadata": {},
   "outputs": [
    {
     "name": "stdout",
     "output_type": "stream",
     "text": [
      "Doc2Vec(dm/m,d100,n5,w8,s0.001)\n"
     ]
    }
   ],
   "source": [
    "print(d2v_model)"
   ]
  },
  {
   "cell_type": "code",
   "execution_count": 49,
   "metadata": {},
   "outputs": [],
   "source": [
    "# Tạo ra ma trận nhúng (embedding matrix) cho các văn bản trong mô hình Doc2Vec \n",
    "embedding_matrix = np.zeros((len(d2v_model.wv.vocab)+ 1, 20))\n",
    "\n",
    "for i, vec in enumerate(d2v_model.docvecs.vectors_docs):\n",
    "    while i in vec <= 1000:\n",
    "        embedding_matrix[i]=vec\n"
   ]
  },
  {
   "cell_type": "markdown",
   "metadata": {},
   "source": [
    "Xây dựng mô hình Bi-LSTM "
   ]
  },
  {
   "cell_type": "code",
   "execution_count": 50,
   "metadata": {},
   "outputs": [
    {
     "name": "stdout",
     "output_type": "stream",
     "text": [
      "Model: \"sequential_1\"\n",
      "_________________________________________________________________\n",
      " Layer (type)                Output Shape              Param #   \n",
      "=================================================================\n",
      " embedding_1 (Embedding)     (None, 40, 20)            15840     \n",
      "                                                                 \n",
      " bidirectional_1 (Bidirecti  (None, 100)               28400     \n",
      " onal)                                                           \n",
      "                                                                 \n",
      " dense_1 (Dense)             (None, 182)               18382     \n",
      "                                                                 \n",
      "=================================================================\n",
      "Total params: 62622 (244.62 KB)\n",
      "Trainable params: 62622 (244.62 KB)\n",
      "Non-trainable params: 0 (0.00 Byte)\n",
      "_________________________________________________________________\n"
     ]
    }
   ],
   "source": [
    "from keras.models import Sequential\n",
    "from keras.layers import Bidirectional, LSTM, Dense, Embedding\n",
    "\n",
    "# Khởi tạo lớp\n",
    "model = Sequential()\n",
    "\n",
    "# Nhúng vector từ\n",
    "model.add(Embedding(len(d2v_model.wv.vocab) + 1, 20, input_length=X.shape[1], weights=[embedding_matrix], trainable=True))\n",
    "\n",
    "# Học các mối tương quan\n",
    "def split_input(sequence):\n",
    "    return sequence[:-1], tf.reshape(sequence[1:], (-1, 1))\n",
    "\n",
    "# Thay thế LSTM thành Bi-LSTM\n",
    "model.add(Bidirectional(LSTM(50, return_sequences=False)))\n",
    "\n",
    "model.add(Dense(num_class, activation=\"softmax\"))\n",
    "\n",
    "# Cấu trúc mô hình\n",
    "model.summary()\n",
    "model.compile(optimizer=\"adam\", loss=\"categorical_crossentropy\", metrics=['acc'])"
   ]
  },
  {
   "cell_type": "code",
   "execution_count": 51,
   "metadata": {},
   "outputs": [
    {
     "name": "stdout",
     "output_type": "stream",
     "text": [
      "(3547, 40) (3547, 182)\n"
     ]
    }
   ],
   "source": [
    "# Tạo ra một DataFrame mới, trong đó mỗi giá trị của biến phân loại sẽ được chuyển thành một vector nhị phân, với giá trị 1 tại vị trí của lớp và 0 ở những vị trí còn lại\n",
    "Y = pd.get_dummies(df['category']).values\n",
    "print(X.shape,Y.shape)"
   ]
  },
  {
   "cell_type": "code",
   "execution_count": 52,
   "metadata": {},
   "outputs": [
    {
     "name": "stdout",
     "output_type": "stream",
     "text": [
      "Epoch 1/200\n",
      "887/887 - 11s - loss: 4.9586 - acc: 0.0248 - val_loss: 4.4841 - val_acc: 0.0688 - 11s/epoch - 13ms/step\n",
      "Epoch 2/200\n",
      "887/887 - 9s - loss: 4.1854 - acc: 0.0961 - val_loss: 3.7744 - val_acc: 0.1508 - 9s/epoch - 10ms/step\n",
      "Epoch 3/200\n",
      "887/887 - 9s - loss: 3.6563 - acc: 0.1618 - val_loss: 3.3435 - val_acc: 0.2222 - 9s/epoch - 10ms/step\n",
      "Epoch 4/200\n",
      "887/887 - 9s - loss: 3.3275 - acc: 0.2047 - val_loss: 3.0711 - val_acc: 0.2771 - 9s/epoch - 10ms/step\n",
      "Epoch 5/200\n",
      "887/887 - 9s - loss: 3.0666 - acc: 0.2715 - val_loss: 2.8293 - val_acc: 0.3152 - 9s/epoch - 10ms/step\n",
      "Epoch 6/200\n",
      "887/887 - 15s - loss: 2.8445 - acc: 0.3101 - val_loss: 2.6474 - val_acc: 0.3502 - 15s/epoch - 17ms/step\n",
      "Epoch 7/200\n",
      "887/887 - 9s - loss: 2.6443 - acc: 0.3583 - val_loss: 2.4099 - val_acc: 0.4251 - 9s/epoch - 10ms/step\n",
      "Epoch 8/200\n",
      "887/887 - 9s - loss: 2.4660 - acc: 0.3989 - val_loss: 2.2628 - val_acc: 0.4559 - 9s/epoch - 10ms/step\n",
      "Epoch 9/200\n",
      "887/887 - 9s - loss: 2.2854 - acc: 0.4373 - val_loss: 2.0845 - val_acc: 0.4906 - 9s/epoch - 10ms/step\n",
      "Epoch 10/200\n",
      "887/887 - 9s - loss: 2.1301 - acc: 0.4686 - val_loss: 1.9640 - val_acc: 0.5204 - 9s/epoch - 10ms/step\n",
      "Epoch 11/200\n",
      "887/887 - 9s - loss: 1.9935 - acc: 0.5041 - val_loss: 1.7844 - val_acc: 0.5622 - 9s/epoch - 10ms/step\n",
      "Epoch 12/200\n",
      "887/887 - 9s - loss: 1.8656 - acc: 0.5295 - val_loss: 1.6848 - val_acc: 0.5811 - 9s/epoch - 10ms/step\n",
      "Epoch 13/200\n",
      "887/887 - 14s - loss: 1.7418 - acc: 0.5672 - val_loss: 1.5909 - val_acc: 0.6050 - 14s/epoch - 16ms/step\n",
      "Epoch 14/200\n",
      "887/887 - 31s - loss: 1.6437 - acc: 0.5937 - val_loss: 1.4462 - val_acc: 0.6580 - 31s/epoch - 35ms/step\n",
      "Epoch 15/200\n",
      "887/887 - 14s - loss: 1.5321 - acc: 0.6211 - val_loss: 1.3923 - val_acc: 0.6637 - 14s/epoch - 16ms/step\n",
      "Epoch 16/200\n",
      "887/887 - 37s - loss: 1.4320 - acc: 0.6422 - val_loss: 1.2738 - val_acc: 0.6941 - 37s/epoch - 41ms/step\n",
      "Epoch 17/200\n",
      "887/887 - 37s - loss: 1.3476 - acc: 0.6631 - val_loss: 1.1932 - val_acc: 0.7150 - 37s/epoch - 42ms/step\n",
      "Epoch 18/200\n",
      "887/887 - 35s - loss: 1.2660 - acc: 0.6904 - val_loss: 1.1163 - val_acc: 0.7384 - 35s/epoch - 40ms/step\n",
      "Epoch 19/200\n",
      "887/887 - 20s - loss: 1.1888 - acc: 0.7051 - val_loss: 1.0554 - val_acc: 0.7530 - 20s/epoch - 22ms/step\n",
      "Epoch 20/200\n",
      "887/887 - 8s - loss: 1.1360 - acc: 0.7226 - val_loss: 1.0332 - val_acc: 0.7539 - 8s/epoch - 9ms/step\n",
      "Epoch 21/200\n",
      "887/887 - 8s - loss: 1.0546 - acc: 0.7398 - val_loss: 0.9242 - val_acc: 0.7849 - 8s/epoch - 10ms/step\n",
      "Epoch 22/200\n",
      "887/887 - 9s - loss: 0.9783 - acc: 0.7674 - val_loss: 0.8418 - val_acc: 0.8058 - 9s/epoch - 10ms/step\n",
      "Epoch 23/200\n",
      "887/887 - 9s - loss: 0.9263 - acc: 0.7733 - val_loss: 0.8017 - val_acc: 0.8136 - 9s/epoch - 11ms/step\n",
      "Epoch 24/200\n",
      "887/887 - 9s - loss: 0.8601 - acc: 0.7922 - val_loss: 0.7542 - val_acc: 0.8263 - 9s/epoch - 10ms/step\n",
      "Epoch 25/200\n",
      "887/887 - 9s - loss: 0.8132 - acc: 0.8086 - val_loss: 0.7088 - val_acc: 0.8356 - 9s/epoch - 10ms/step\n",
      "Epoch 26/200\n",
      "887/887 - 9s - loss: 0.7608 - acc: 0.8153 - val_loss: 0.6317 - val_acc: 0.8599 - 9s/epoch - 10ms/step\n",
      "Epoch 27/200\n",
      "887/887 - 20s - loss: 0.6943 - acc: 0.8385 - val_loss: 0.5941 - val_acc: 0.8768 - 20s/epoch - 22ms/step\n",
      "Epoch 28/200\n",
      "887/887 - 13s - loss: 0.6596 - acc: 0.8396 - val_loss: 0.5856 - val_acc: 0.8700 - 13s/epoch - 15ms/step\n",
      "Epoch 29/200\n",
      "887/887 - 9s - loss: 0.6224 - acc: 0.8528 - val_loss: 0.5437 - val_acc: 0.8855 - 9s/epoch - 10ms/step\n",
      "Epoch 30/200\n",
      "887/887 - 8s - loss: 0.5716 - acc: 0.8740 - val_loss: 0.4928 - val_acc: 0.8996 - 8s/epoch - 10ms/step\n",
      "Epoch 31/200\n",
      "887/887 - 32s - loss: 0.5305 - acc: 0.8807 - val_loss: 0.4394 - val_acc: 0.9143 - 32s/epoch - 36ms/step\n",
      "Epoch 32/200\n",
      "887/887 - 34s - loss: 0.4886 - acc: 0.8929 - val_loss: 0.4154 - val_acc: 0.9222 - 34s/epoch - 38ms/step\n",
      "Epoch 33/200\n",
      "887/887 - 34s - loss: 0.4599 - acc: 0.9005 - val_loss: 0.3923 - val_acc: 0.9270 - 34s/epoch - 38ms/step\n",
      "Epoch 34/200\n",
      "887/887 - 34s - loss: 0.4517 - acc: 0.9041 - val_loss: 0.3513 - val_acc: 0.9366 - 34s/epoch - 38ms/step\n",
      "Epoch 35/200\n",
      "887/887 - 34s - loss: 0.3828 - acc: 0.9216 - val_loss: 0.3261 - val_acc: 0.9439 - 34s/epoch - 39ms/step\n",
      "Epoch 36/200\n",
      "887/887 - 35s - loss: 0.3603 - acc: 0.9323 - val_loss: 0.5757 - val_acc: 0.8585 - 35s/epoch - 39ms/step\n",
      "Epoch 37/200\n",
      "887/887 - 34s - loss: 0.4059 - acc: 0.9115 - val_loss: 0.2762 - val_acc: 0.9555 - 34s/epoch - 38ms/step\n",
      "Epoch 38/200\n",
      "887/887 - 36s - loss: 0.3130 - acc: 0.9431 - val_loss: 0.2565 - val_acc: 0.9628 - 36s/epoch - 40ms/step\n",
      "Epoch 39/200\n",
      "887/887 - 36s - loss: 0.2852 - acc: 0.9515 - val_loss: 0.2266 - val_acc: 0.9690 - 36s/epoch - 40ms/step\n",
      "Epoch 40/200\n",
      "887/887 - 35s - loss: 0.2782 - acc: 0.9540 - val_loss: 0.2256 - val_acc: 0.9636 - 35s/epoch - 40ms/step\n",
      "Epoch 41/200\n",
      "887/887 - 24s - loss: 0.2631 - acc: 0.9515 - val_loss: 0.2352 - val_acc: 0.9597 - 24s/epoch - 27ms/step\n",
      "Epoch 42/200\n",
      "887/887 - 9s - loss: 0.2671 - acc: 0.9518 - val_loss: 0.1985 - val_acc: 0.9738 - 9s/epoch - 10ms/step\n",
      "Epoch 43/200\n",
      "887/887 - 9s - loss: 0.2314 - acc: 0.9591 - val_loss: 0.1931 - val_acc: 0.9710 - 9s/epoch - 10ms/step\n",
      "Epoch 44/200\n",
      "887/887 - 14s - loss: 0.2162 - acc: 0.9662 - val_loss: 0.1660 - val_acc: 0.9758 - 14s/epoch - 16ms/step\n",
      "Epoch 45/200\n",
      "887/887 - 26s - loss: 0.1737 - acc: 0.9727 - val_loss: 0.1453 - val_acc: 0.9808 - 26s/epoch - 29ms/step\n",
      "Epoch 46/200\n",
      "887/887 - 9s - loss: 0.1710 - acc: 0.9758 - val_loss: 0.1328 - val_acc: 0.9817 - 9s/epoch - 10ms/step\n",
      "Epoch 47/200\n",
      "887/887 - 9s - loss: 0.1615 - acc: 0.9755 - val_loss: 0.1306 - val_acc: 0.9834 - 9s/epoch - 10ms/step\n",
      "Epoch 48/200\n",
      "887/887 - 9s - loss: 0.1576 - acc: 0.9701 - val_loss: 0.1831 - val_acc: 0.9676 - 9s/epoch - 11ms/step\n",
      "Epoch 49/200\n",
      "887/887 - 9s - loss: 0.1904 - acc: 0.9631 - val_loss: 0.1303 - val_acc: 0.9794 - 9s/epoch - 11ms/step\n",
      "Epoch 50/200\n",
      "887/887 - 9s - loss: 0.1455 - acc: 0.9760 - val_loss: 0.1225 - val_acc: 0.9822 - 9s/epoch - 10ms/step\n",
      "Epoch 51/200\n",
      "887/887 - 22s - loss: 0.1323 - acc: 0.9780 - val_loss: 0.1263 - val_acc: 0.9800 - 22s/epoch - 25ms/step\n",
      "Epoch 52/200\n",
      "887/887 - 36s - loss: 0.1594 - acc: 0.9707 - val_loss: 0.1111 - val_acc: 0.9862 - 36s/epoch - 41ms/step\n",
      "Epoch 53/200\n",
      "887/887 - 37s - loss: 0.1174 - acc: 0.9828 - val_loss: 0.0791 - val_acc: 0.9896 - 37s/epoch - 41ms/step\n",
      "Epoch 54/200\n",
      "887/887 - 35s - loss: 0.1044 - acc: 0.9839 - val_loss: 0.0976 - val_acc: 0.9865 - 35s/epoch - 39ms/step\n",
      "Epoch 55/200\n",
      "887/887 - 20s - loss: 0.1546 - acc: 0.9704 - val_loss: 0.0897 - val_acc: 0.9867 - 20s/epoch - 23ms/step\n",
      "Epoch 56/200\n",
      "887/887 - 26s - loss: 0.1078 - acc: 0.9848 - val_loss: 0.0830 - val_acc: 0.9896 - 26s/epoch - 29ms/step\n",
      "Epoch 57/200\n",
      "887/887 - 9s - loss: 0.1300 - acc: 0.9752 - val_loss: 0.0909 - val_acc: 0.9893 - 9s/epoch - 11ms/step\n",
      "Epoch 58/200\n",
      "887/887 - 15s - loss: 0.1240 - acc: 0.9755 - val_loss: 0.1341 - val_acc: 0.9741 - 15s/epoch - 17ms/step\n",
      "Epoch 59/200\n",
      "887/887 - 38s - loss: 0.1004 - acc: 0.9845 - val_loss: 0.0736 - val_acc: 0.9901 - 38s/epoch - 43ms/step\n",
      "Epoch 60/200\n",
      "887/887 - 38s - loss: 0.0731 - acc: 0.9890 - val_loss: 0.0529 - val_acc: 0.9927 - 38s/epoch - 43ms/step\n",
      "Epoch 61/200\n",
      "887/887 - 38s - loss: 0.0600 - acc: 0.9904 - val_loss: 0.0455 - val_acc: 0.9924 - 38s/epoch - 43ms/step\n",
      "Epoch 62/200\n",
      "887/887 - 38s - loss: 0.0665 - acc: 0.9887 - val_loss: 0.0622 - val_acc: 0.9893 - 38s/epoch - 43ms/step\n",
      "Epoch 63/200\n",
      "887/887 - 36s - loss: 0.1397 - acc: 0.9704 - val_loss: 0.1007 - val_acc: 0.9811 - 36s/epoch - 41ms/step\n",
      "Epoch 64/200\n",
      "887/887 - 9s - loss: 0.1272 - acc: 0.9743 - val_loss: 0.0699 - val_acc: 0.9893 - 9s/epoch - 10ms/step\n",
      "Epoch 65/200\n",
      "887/887 - 9s - loss: 0.0644 - acc: 0.9887 - val_loss: 0.0456 - val_acc: 0.9932 - 9s/epoch - 10ms/step\n",
      "Epoch 66/200\n",
      "887/887 - 9s - loss: 0.0529 - acc: 0.9907 - val_loss: 0.0416 - val_acc: 0.9932 - 9s/epoch - 10ms/step\n",
      "Epoch 67/200\n",
      "887/887 - 9s - loss: 0.0470 - acc: 0.9904 - val_loss: 0.0404 - val_acc: 0.9935 - 9s/epoch - 11ms/step\n",
      "Epoch 68/200\n",
      "887/887 - 10s - loss: 0.0452 - acc: 0.9901 - val_loss: 0.0367 - val_acc: 0.9921 - 10s/epoch - 11ms/step\n",
      "Epoch 69/200\n",
      "887/887 - 10s - loss: 0.1740 - acc: 0.9521 - val_loss: 0.1468 - val_acc: 0.9648 - 10s/epoch - 11ms/step\n",
      "Epoch 70/200\n",
      "887/887 - 9s - loss: 0.0996 - acc: 0.9794 - val_loss: 0.0518 - val_acc: 0.9927 - 9s/epoch - 11ms/step\n",
      "Epoch 71/200\n",
      "887/887 - 9s - loss: 0.0670 - acc: 0.9859 - val_loss: 0.0546 - val_acc: 0.9899 - 9s/epoch - 10ms/step\n",
      "Epoch 72/200\n",
      "887/887 - 9s - loss: 0.0579 - acc: 0.9876 - val_loss: 0.0459 - val_acc: 0.9913 - 9s/epoch - 10ms/step\n",
      "Epoch 73/200\n",
      "887/887 - 9s - loss: 0.0466 - acc: 0.9907 - val_loss: 0.0327 - val_acc: 0.9930 - 9s/epoch - 11ms/step\n",
      "Epoch 74/200\n",
      "887/887 - 9s - loss: 0.0389 - acc: 0.9901 - val_loss: 0.0317 - val_acc: 0.9927 - 9s/epoch - 10ms/step\n",
      "Epoch 75/200\n",
      "887/887 - 9s - loss: 0.0465 - acc: 0.9870 - val_loss: 0.0978 - val_acc: 0.9760 - 9s/epoch - 11ms/step\n",
      "Epoch 76/200\n",
      "887/887 - 9s - loss: 0.1752 - acc: 0.9518 - val_loss: 0.0812 - val_acc: 0.9853 - 9s/epoch - 11ms/step\n",
      "Epoch 77/200\n",
      "887/887 - 25s - loss: 0.0691 - acc: 0.9867 - val_loss: 0.0369 - val_acc: 0.9935 - 25s/epoch - 28ms/step\n",
      "Epoch 78/200\n",
      "887/887 - 39s - loss: 0.0394 - acc: 0.9910 - val_loss: 0.0290 - val_acc: 0.9938 - 39s/epoch - 44ms/step\n",
      "Epoch 79/200\n",
      "887/887 - 38s - loss: 0.0326 - acc: 0.9927 - val_loss: 0.0268 - val_acc: 0.9935 - 38s/epoch - 43ms/step\n",
      "Epoch 80/200\n",
      "887/887 - 17s - loss: 0.0328 - acc: 0.9915 - val_loss: 0.0246 - val_acc: 0.9932 - 17s/epoch - 19ms/step\n",
      "Epoch 81/200\n",
      "887/887 - 9s - loss: 0.0315 - acc: 0.9918 - val_loss: 0.0257 - val_acc: 0.9935 - 9s/epoch - 10ms/step\n",
      "Epoch 82/200\n",
      "887/887 - 9s - loss: 0.1156 - acc: 0.9667 - val_loss: 0.0954 - val_acc: 0.9777 - 9s/epoch - 10ms/step\n",
      "Epoch 83/200\n",
      "887/887 - 9s - loss: 0.1149 - acc: 0.9707 - val_loss: 0.0562 - val_acc: 0.9882 - 9s/epoch - 10ms/step\n",
      "Epoch 84/200\n",
      "887/887 - 9s - loss: 0.0471 - acc: 0.9890 - val_loss: 0.0287 - val_acc: 0.9941 - 9s/epoch - 10ms/step\n",
      "Epoch 85/200\n",
      "887/887 - 9s - loss: 0.0319 - acc: 0.9924 - val_loss: 0.0245 - val_acc: 0.9941 - 9s/epoch - 11ms/step\n",
      "Epoch 86/200\n",
      "887/887 - 21s - loss: 0.0293 - acc: 0.9921 - val_loss: 0.0228 - val_acc: 0.9935 - 21s/epoch - 24ms/step\n",
      "Epoch 87/200\n",
      "887/887 - 39s - loss: 0.0287 - acc: 0.9918 - val_loss: 0.0218 - val_acc: 0.9935 - 39s/epoch - 44ms/step\n",
      "Epoch 88/200\n",
      "887/887 - 39s - loss: 0.0277 - acc: 0.9913 - val_loss: 0.0234 - val_acc: 0.9935 - 39s/epoch - 44ms/step\n",
      "Epoch 89/200\n",
      "887/887 - 38s - loss: 0.1425 - acc: 0.9600 - val_loss: 0.1929 - val_acc: 0.9487 - 38s/epoch - 42ms/step\n",
      "Epoch 90/200\n",
      "887/887 - 11s - loss: 0.1236 - acc: 0.9667 - val_loss: 0.0942 - val_acc: 0.9814 - 11s/epoch - 12ms/step\n",
      "Epoch 91/200\n",
      "887/887 - 22s - loss: 0.0598 - acc: 0.9853 - val_loss: 0.0335 - val_acc: 0.9918 - 22s/epoch - 24ms/step\n",
      "Epoch 92/200\n",
      "887/887 - 38s - loss: 0.0353 - acc: 0.9907 - val_loss: 0.0332 - val_acc: 0.9913 - 38s/epoch - 43ms/step\n",
      "Epoch 93/200\n",
      "887/887 - 37s - loss: 0.0428 - acc: 0.9887 - val_loss: 0.0259 - val_acc: 0.9938 - 37s/epoch - 41ms/step\n",
      "Epoch 94/200\n",
      "887/887 - 37s - loss: 0.0289 - acc: 0.9913 - val_loss: 0.0209 - val_acc: 0.9941 - 37s/epoch - 42ms/step\n",
      "Epoch 95/200\n",
      "887/887 - 28s - loss: 0.0256 - acc: 0.9915 - val_loss: 0.0211 - val_acc: 0.9935 - 28s/epoch - 31ms/step\n",
      "Epoch 96/200\n",
      "887/887 - 9s - loss: 0.0399 - acc: 0.9873 - val_loss: 0.0879 - val_acc: 0.9755 - 9s/epoch - 10ms/step\n",
      "Epoch 97/200\n",
      "887/887 - 9s - loss: 0.1219 - acc: 0.9656 - val_loss: 0.0453 - val_acc: 0.9901 - 9s/epoch - 10ms/step\n",
      "Epoch 98/200\n",
      "887/887 - 34s - loss: 0.0488 - acc: 0.9873 - val_loss: 0.0292 - val_acc: 0.9927 - 34s/epoch - 39ms/step\n",
      "Epoch 99/200\n",
      "887/887 - 36s - loss: 0.0560 - acc: 0.9834 - val_loss: 0.0534 - val_acc: 0.9859 - 36s/epoch - 40ms/step\n",
      "Epoch 100/200\n",
      "887/887 - 13s - loss: 0.0417 - acc: 0.9893 - val_loss: 0.0328 - val_acc: 0.9913 - 13s/epoch - 15ms/step\n",
      "Epoch 101/200\n",
      "887/887 - 9s - loss: 0.0416 - acc: 0.9882 - val_loss: 0.0263 - val_acc: 0.9935 - 9s/epoch - 10ms/step\n",
      "Epoch 102/200\n",
      "887/887 - 9s - loss: 0.0375 - acc: 0.9893 - val_loss: 0.0510 - val_acc: 0.9870 - 9s/epoch - 10ms/step\n",
      "Epoch 103/200\n",
      "887/887 - 9s - loss: 0.0376 - acc: 0.9913 - val_loss: 0.0229 - val_acc: 0.9935 - 9s/epoch - 10ms/step\n",
      "Epoch 104/200\n",
      "887/887 - 9s - loss: 0.0303 - acc: 0.9896 - val_loss: 0.0335 - val_acc: 0.9901 - 9s/epoch - 10ms/step\n",
      "Epoch 105/200\n",
      "887/887 - 9s - loss: 0.0671 - acc: 0.9811 - val_loss: 0.0420 - val_acc: 0.9884 - 9s/epoch - 10ms/step\n",
      "Epoch 106/200\n",
      "887/887 - 9s - loss: 0.0703 - acc: 0.9800 - val_loss: 0.0319 - val_acc: 0.9924 - 9s/epoch - 10ms/step\n",
      "Epoch 107/200\n",
      "887/887 - 9s - loss: 0.0330 - acc: 0.9913 - val_loss: 0.0206 - val_acc: 0.9938 - 9s/epoch - 10ms/step\n",
      "Epoch 108/200\n",
      "887/887 - 9s - loss: 0.0239 - acc: 0.9918 - val_loss: 0.0185 - val_acc: 0.9941 - 9s/epoch - 10ms/step\n",
      "Epoch 109/200\n",
      "887/887 - 9s - loss: 0.0235 - acc: 0.9910 - val_loss: 0.0182 - val_acc: 0.9941 - 9s/epoch - 11ms/step\n",
      "Epoch 110/200\n",
      "887/887 - 10s - loss: 0.0226 - acc: 0.9924 - val_loss: 0.0173 - val_acc: 0.9938 - 10s/epoch - 11ms/step\n",
      "Epoch 111/200\n",
      "887/887 - 9s - loss: 0.0224 - acc: 0.9921 - val_loss: 0.0189 - val_acc: 0.9938 - 9s/epoch - 11ms/step\n",
      "Epoch 112/200\n",
      "887/887 - 9s - loss: 0.0256 - acc: 0.9918 - val_loss: 0.0621 - val_acc: 0.9842 - 9s/epoch - 10ms/step\n",
      "Epoch 113/200\n",
      "887/887 - 9s - loss: 0.1407 - acc: 0.9586 - val_loss: 0.0479 - val_acc: 0.9865 - 9s/epoch - 10ms/step\n",
      "Epoch 114/200\n",
      "887/887 - 9s - loss: 0.0452 - acc: 0.9870 - val_loss: 0.0231 - val_acc: 0.9935 - 9s/epoch - 10ms/step\n",
      "Epoch 115/200\n",
      "887/887 - 10s - loss: 0.0308 - acc: 0.9904 - val_loss: 0.0200 - val_acc: 0.9938 - 10s/epoch - 11ms/step\n",
      "Epoch 116/200\n",
      "887/887 - 10s - loss: 0.0227 - acc: 0.9913 - val_loss: 0.0174 - val_acc: 0.9938 - 10s/epoch - 11ms/step\n",
      "Epoch 117/200\n",
      "887/887 - 10s - loss: 0.0210 - acc: 0.9915 - val_loss: 0.0167 - val_acc: 0.9935 - 10s/epoch - 11ms/step\n",
      "Epoch 118/200\n",
      "887/887 - 10s - loss: 0.0210 - acc: 0.9918 - val_loss: 0.0179 - val_acc: 0.9935 - 10s/epoch - 11ms/step\n",
      "Epoch 119/200\n",
      "887/887 - 19s - loss: 0.0681 - acc: 0.9797 - val_loss: 0.1683 - val_acc: 0.9549 - 19s/epoch - 21ms/step\n",
      "Epoch 120/200\n",
      "887/887 - 18s - loss: 0.1306 - acc: 0.9617 - val_loss: 0.0390 - val_acc: 0.9882 - 18s/epoch - 21ms/step\n",
      "Epoch 121/200\n",
      "887/887 - 20s - loss: 0.0433 - acc: 0.9893 - val_loss: 0.0245 - val_acc: 0.9938 - 20s/epoch - 22ms/step\n",
      "Epoch 122/200\n",
      "887/887 - 22s - loss: 0.0250 - acc: 0.9915 - val_loss: 0.0184 - val_acc: 0.9938 - 22s/epoch - 25ms/step\n",
      "Epoch 123/200\n",
      "887/887 - 12s - loss: 0.0217 - acc: 0.9913 - val_loss: 0.0164 - val_acc: 0.9941 - 12s/epoch - 13ms/step\n",
      "Epoch 124/200\n",
      "887/887 - 9s - loss: 0.0206 - acc: 0.9918 - val_loss: 0.0157 - val_acc: 0.9941 - 9s/epoch - 10ms/step\n",
      "Epoch 125/200\n",
      "887/887 - 30s - loss: 0.0208 - acc: 0.9918 - val_loss: 0.0150 - val_acc: 0.9941 - 30s/epoch - 34ms/step\n",
      "Epoch 126/200\n",
      "887/887 - 15s - loss: 0.0206 - acc: 0.9915 - val_loss: 0.0156 - val_acc: 0.9941 - 15s/epoch - 17ms/step\n",
      "Epoch 127/200\n",
      "887/887 - 9s - loss: 0.0467 - acc: 0.9836 - val_loss: 0.1137 - val_acc: 0.9701 - 9s/epoch - 10ms/step\n",
      "Epoch 128/200\n",
      "887/887 - 9s - loss: 0.1039 - acc: 0.9701 - val_loss: 0.0441 - val_acc: 0.9879 - 9s/epoch - 10ms/step\n",
      "Epoch 129/200\n",
      "887/887 - 18s - loss: 0.0349 - acc: 0.9887 - val_loss: 0.0198 - val_acc: 0.9930 - 18s/epoch - 20ms/step\n",
      "Epoch 130/200\n",
      "887/887 - 9s - loss: 0.0606 - acc: 0.9820 - val_loss: 0.0339 - val_acc: 0.9904 - 9s/epoch - 10ms/step\n",
      "Epoch 131/200\n",
      "887/887 - 9s - loss: 0.0416 - acc: 0.9899 - val_loss: 0.0353 - val_acc: 0.9901 - 9s/epoch - 10ms/step\n",
      "Epoch 132/200\n",
      "887/887 - 9s - loss: 0.0287 - acc: 0.9904 - val_loss: 0.0181 - val_acc: 0.9938 - 9s/epoch - 11ms/step\n",
      "Epoch 133/200\n",
      "887/887 - 10s - loss: 0.0219 - acc: 0.9910 - val_loss: 0.0175 - val_acc: 0.9932 - 10s/epoch - 11ms/step\n",
      "Epoch 134/200\n",
      "887/887 - 10s - loss: 0.0211 - acc: 0.9924 - val_loss: 0.0159 - val_acc: 0.9935 - 10s/epoch - 11ms/step\n",
      "Epoch 135/200\n",
      "887/887 - 10s - loss: 0.0198 - acc: 0.9924 - val_loss: 0.0146 - val_acc: 0.9938 - 10s/epoch - 11ms/step\n",
      "Epoch 136/200\n",
      "887/887 - 10s - loss: 0.0206 - acc: 0.9907 - val_loss: 0.0143 - val_acc: 0.9935 - 10s/epoch - 11ms/step\n",
      "Epoch 137/200\n",
      "887/887 - 10s - loss: 0.0196 - acc: 0.9913 - val_loss: 0.0143 - val_acc: 0.9941 - 10s/epoch - 11ms/step\n",
      "Epoch 138/200\n",
      "887/887 - 10s - loss: 0.0742 - acc: 0.9758 - val_loss: 0.1380 - val_acc: 0.9628 - 10s/epoch - 11ms/step\n",
      "Epoch 139/200\n",
      "887/887 - 10s - loss: 0.1033 - acc: 0.9653 - val_loss: 0.0425 - val_acc: 0.9870 - 10s/epoch - 11ms/step\n",
      "Epoch 140/200\n",
      "887/887 - 10s - loss: 0.0363 - acc: 0.9882 - val_loss: 0.0184 - val_acc: 0.9941 - 10s/epoch - 11ms/step\n",
      "Epoch 141/200\n",
      "887/887 - 10s - loss: 0.0213 - acc: 0.9907 - val_loss: 0.0158 - val_acc: 0.9941 - 10s/epoch - 11ms/step\n",
      "Epoch 142/200\n",
      "887/887 - 10s - loss: 0.0196 - acc: 0.9915 - val_loss: 0.0147 - val_acc: 0.9941 - 10s/epoch - 11ms/step\n",
      "Epoch 143/200\n",
      "887/887 - 32s - loss: 0.0181 - acc: 0.9930 - val_loss: 0.0143 - val_acc: 0.9941 - 32s/epoch - 37ms/step\n",
      "Epoch 144/200\n",
      "887/887 - 17s - loss: 0.0195 - acc: 0.9921 - val_loss: 0.0138 - val_acc: 0.9941 - 17s/epoch - 19ms/step\n",
      "Epoch 145/200\n",
      "887/887 - 9s - loss: 0.0191 - acc: 0.9904 - val_loss: 0.0150 - val_acc: 0.9938 - 9s/epoch - 11ms/step\n",
      "Epoch 146/200\n",
      "887/887 - 9s - loss: 0.1053 - acc: 0.9679 - val_loss: 0.0514 - val_acc: 0.9862 - 9s/epoch - 10ms/step\n",
      "Epoch 147/200\n",
      "887/887 - 9s - loss: 0.0552 - acc: 0.9808 - val_loss: 0.0246 - val_acc: 0.9918 - 9s/epoch - 10ms/step\n",
      "Epoch 148/200\n",
      "887/887 - 10s - loss: 0.0477 - acc: 0.9848 - val_loss: 0.0463 - val_acc: 0.9859 - 10s/epoch - 11ms/step\n",
      "Epoch 149/200\n",
      "887/887 - 10s - loss: 0.0387 - acc: 0.9876 - val_loss: 0.0229 - val_acc: 0.9927 - 10s/epoch - 12ms/step\n",
      "Epoch 150/200\n",
      "887/887 - 11s - loss: 0.0400 - acc: 0.9865 - val_loss: 0.0597 - val_acc: 0.9848 - 11s/epoch - 13ms/step\n",
      "Epoch 151/200\n",
      "887/887 - 35s - loss: 0.0343 - acc: 0.9901 - val_loss: 0.0173 - val_acc: 0.9935 - 35s/epoch - 39ms/step\n",
      "Epoch 152/200\n",
      "887/887 - 9s - loss: 0.0205 - acc: 0.9910 - val_loss: 0.0146 - val_acc: 0.9941 - 9s/epoch - 10ms/step\n",
      "Epoch 153/200\n",
      "887/887 - 9s - loss: 0.0185 - acc: 0.9924 - val_loss: 0.0142 - val_acc: 0.9941 - 9s/epoch - 10ms/step\n",
      "Epoch 154/200\n",
      "887/887 - 9s - loss: 0.0190 - acc: 0.9915 - val_loss: 0.0141 - val_acc: 0.9941 - 9s/epoch - 10ms/step\n",
      "Epoch 155/200\n",
      "887/887 - 9s - loss: 0.0183 - acc: 0.9913 - val_loss: 0.0135 - val_acc: 0.9941 - 9s/epoch - 10ms/step\n",
      "Epoch 156/200\n",
      "887/887 - 10s - loss: 0.0180 - acc: 0.9918 - val_loss: 0.0163 - val_acc: 0.9935 - 10s/epoch - 11ms/step\n",
      "Epoch 157/200\n",
      "887/887 - 10s - loss: 0.1088 - acc: 0.9670 - val_loss: 0.0500 - val_acc: 0.9839 - 10s/epoch - 11ms/step\n",
      "Epoch 158/200\n",
      "887/887 - 10s - loss: 0.0517 - acc: 0.9836 - val_loss: 0.0212 - val_acc: 0.9932 - 10s/epoch - 11ms/step\n",
      "Epoch 159/200\n",
      "887/887 - 10s - loss: 0.0236 - acc: 0.9907 - val_loss: 0.0168 - val_acc: 0.9930 - 10s/epoch - 11ms/step\n",
      "Epoch 160/200\n",
      "887/887 - 10s - loss: 0.0198 - acc: 0.9918 - val_loss: 0.0143 - val_acc: 0.9938 - 10s/epoch - 11ms/step\n",
      "Epoch 161/200\n",
      "887/887 - 10s - loss: 0.0179 - acc: 0.9910 - val_loss: 0.0140 - val_acc: 0.9938 - 10s/epoch - 11ms/step\n",
      "Epoch 162/200\n",
      "887/887 - 10s - loss: 0.0178 - acc: 0.9921 - val_loss: 0.0135 - val_acc: 0.9938 - 10s/epoch - 11ms/step\n",
      "Epoch 163/200\n",
      "887/887 - 10s - loss: 0.0175 - acc: 0.9927 - val_loss: 0.0134 - val_acc: 0.9941 - 10s/epoch - 11ms/step\n",
      "Epoch 164/200\n",
      "887/887 - 10s - loss: 0.0186 - acc: 0.9918 - val_loss: 0.0133 - val_acc: 0.9941 - 10s/epoch - 11ms/step\n",
      "Epoch 165/200\n",
      "887/887 - 18s - loss: 0.0187 - acc: 0.9924 - val_loss: 0.0158 - val_acc: 0.9930 - 18s/epoch - 21ms/step\n",
      "Epoch 166/200\n",
      "887/887 - 9s - loss: 0.1212 - acc: 0.9577 - val_loss: 0.0589 - val_acc: 0.9811 - 9s/epoch - 10ms/step\n",
      "Epoch 167/200\n",
      "887/887 - 18s - loss: 0.0590 - acc: 0.9808 - val_loss: 0.0225 - val_acc: 0.9935 - 18s/epoch - 21ms/step\n",
      "Epoch 168/200\n",
      "887/887 - 11s - loss: 0.0236 - acc: 0.9924 - val_loss: 0.0178 - val_acc: 0.9935 - 11s/epoch - 12ms/step\n",
      "Epoch 169/200\n",
      "887/887 - 9s - loss: 0.0198 - acc: 0.9915 - val_loss: 0.0147 - val_acc: 0.9941 - 9s/epoch - 10ms/step\n",
      "Epoch 170/200\n",
      "887/887 - 9s - loss: 0.0183 - acc: 0.9915 - val_loss: 0.0134 - val_acc: 0.9941 - 9s/epoch - 10ms/step\n",
      "Epoch 171/200\n",
      "887/887 - 10s - loss: 0.0174 - acc: 0.9910 - val_loss: 0.0134 - val_acc: 0.9941 - 10s/epoch - 11ms/step\n",
      "Epoch 172/200\n",
      "887/887 - 10s - loss: 0.0183 - acc: 0.9913 - val_loss: 0.0131 - val_acc: 0.9941 - 10s/epoch - 11ms/step\n",
      "Epoch 173/200\n",
      "887/887 - 10s - loss: 0.0733 - acc: 0.9766 - val_loss: 0.0745 - val_acc: 0.9760 - 10s/epoch - 11ms/step\n",
      "Epoch 174/200\n",
      "887/887 - 10s - loss: 0.0542 - acc: 0.9836 - val_loss: 0.0259 - val_acc: 0.9918 - 10s/epoch - 11ms/step\n",
      "Epoch 175/200\n",
      "887/887 - 10s - loss: 0.0292 - acc: 0.9887 - val_loss: 0.0198 - val_acc: 0.9930 - 10s/epoch - 11ms/step\n",
      "Epoch 176/200\n",
      "887/887 - 10s - loss: 0.0244 - acc: 0.9904 - val_loss: 0.0150 - val_acc: 0.9941 - 10s/epoch - 11ms/step\n",
      "Epoch 177/200\n",
      "887/887 - 10s - loss: 0.0183 - acc: 0.9921 - val_loss: 0.0138 - val_acc: 0.9938 - 10s/epoch - 11ms/step\n",
      "Epoch 178/200\n",
      "887/887 - 9s - loss: 0.0175 - acc: 0.9924 - val_loss: 0.0131 - val_acc: 0.9941 - 9s/epoch - 11ms/step\n",
      "Epoch 179/200\n",
      "887/887 - 10s - loss: 0.0172 - acc: 0.9915 - val_loss: 0.0134 - val_acc: 0.9941 - 10s/epoch - 11ms/step\n",
      "Epoch 180/200\n",
      "887/887 - 9s - loss: 0.0177 - acc: 0.9913 - val_loss: 0.0132 - val_acc: 0.9938 - 9s/epoch - 10ms/step\n",
      "Epoch 181/200\n",
      "887/887 - 9s - loss: 0.0171 - acc: 0.9915 - val_loss: 0.0142 - val_acc: 0.9935 - 9s/epoch - 10ms/step\n",
      "Epoch 182/200\n",
      "887/887 - 9s - loss: 0.0821 - acc: 0.9727 - val_loss: 0.0709 - val_acc: 0.9777 - 9s/epoch - 11ms/step\n",
      "Epoch 183/200\n",
      "887/887 - 10s - loss: 0.0630 - acc: 0.9780 - val_loss: 0.0345 - val_acc: 0.9876 - 10s/epoch - 11ms/step\n",
      "Epoch 184/200\n",
      "887/887 - 10s - loss: 0.0375 - acc: 0.9865 - val_loss: 0.0249 - val_acc: 0.9915 - 10s/epoch - 11ms/step\n",
      "Epoch 185/200\n",
      "887/887 - 10s - loss: 0.0232 - acc: 0.9921 - val_loss: 0.0161 - val_acc: 0.9941 - 10s/epoch - 11ms/step\n",
      "Epoch 186/200\n",
      "887/887 - 9s - loss: 0.0186 - acc: 0.9913 - val_loss: 0.0137 - val_acc: 0.9941 - 9s/epoch - 10ms/step\n",
      "Epoch 187/200\n",
      "887/887 - 10s - loss: 0.0179 - acc: 0.9913 - val_loss: 0.0132 - val_acc: 0.9938 - 10s/epoch - 11ms/step\n",
      "Epoch 188/200\n",
      "887/887 - 26s - loss: 0.0172 - acc: 0.9915 - val_loss: 0.0131 - val_acc: 0.9941 - 26s/epoch - 30ms/step\n",
      "Epoch 189/200\n",
      "887/887 - 13s - loss: 0.0174 - acc: 0.9915 - val_loss: 0.0132 - val_acc: 0.9938 - 13s/epoch - 15ms/step\n",
      "Epoch 190/200\n",
      "887/887 - 9s - loss: 0.0175 - acc: 0.9924 - val_loss: 0.0140 - val_acc: 0.9938 - 9s/epoch - 10ms/step\n",
      "Epoch 191/200\n",
      "887/887 - 9s - loss: 0.0493 - acc: 0.9851 - val_loss: 0.0449 - val_acc: 0.9842 - 9s/epoch - 10ms/step\n",
      "Epoch 192/200\n",
      "887/887 - 9s - loss: 0.0557 - acc: 0.9803 - val_loss: 0.0308 - val_acc: 0.9893 - 9s/epoch - 10ms/step\n",
      "Epoch 193/200\n",
      "887/887 - 9s - loss: 0.0374 - acc: 0.9870 - val_loss: 0.0248 - val_acc: 0.9915 - 9s/epoch - 11ms/step\n",
      "Epoch 194/200\n",
      "887/887 - 10s - loss: 0.0336 - acc: 0.9876 - val_loss: 0.0237 - val_acc: 0.9927 - 10s/epoch - 11ms/step\n",
      "Epoch 195/200\n",
      "887/887 - 10s - loss: 0.0251 - acc: 0.9913 - val_loss: 0.0156 - val_acc: 0.9935 - 10s/epoch - 11ms/step\n",
      "Epoch 196/200\n",
      "887/887 - 10s - loss: 0.0187 - acc: 0.9918 - val_loss: 0.0143 - val_acc: 0.9938 - 10s/epoch - 11ms/step\n",
      "Epoch 197/200\n",
      "887/887 - 9s - loss: 0.0177 - acc: 0.9924 - val_loss: 0.0127 - val_acc: 0.9941 - 9s/epoch - 11ms/step\n",
      "Epoch 198/200\n",
      "887/887 - 30s - loss: 0.0168 - acc: 0.9921 - val_loss: 0.0124 - val_acc: 0.9941 - 30s/epoch - 34ms/step\n",
      "Epoch 199/200\n",
      "887/887 - 37s - loss: 0.0163 - acc: 0.9913 - val_loss: 0.0126 - val_acc: 0.9941 - 37s/epoch - 42ms/step\n",
      "Epoch 200/200\n",
      "887/887 - 36s - loss: 0.0179 - acc: 0.9913 - val_loss: 0.0122 - val_acc: 0.9941 - 36s/epoch - 41ms/step\n"
     ]
    }
   ],
   "source": [
    "# Huấn luyện mô hình\n",
    "batch_size = 4\n",
    "history=model.fit(X, Y, epochs =200, batch_size=batch_size, verbose = 2, validation_data = (X, Y))"
   ]
  },
  {
   "cell_type": "code",
   "execution_count": 53,
   "metadata": {},
   "outputs": [
    {
     "name": "stderr",
     "output_type": "stream",
     "text": [
      "C:\\Users\\OS\\AppData\\Local\\Packages\\PythonSoftwareFoundation.Python.3.8_qbz5n2kfra8p0\\LocalCache\\local-packages\\Python38\\site-packages\\keras\\src\\engine\\training.py:3000: UserWarning: You are saving your model as an HDF5 file via `model.save()`. This file format is considered legacy. We recommend using instead the native Keras format, e.g. `model.save('my_model.keras')`.\n",
      "  saving_api.save_model(\n"
     ]
    }
   ],
   "source": [
    "# Lưu mô hình\n",
    "model.save(f'{origin_path}/model/model.h5')"
   ]
  },
  {
   "cell_type": "code",
   "execution_count": 54,
   "metadata": {},
   "outputs": [],
   "source": [
    "from keras.models import load_model\n",
    "\n",
    "# # Tải mô hình\n",
    "#loaded_model = load_model(f'{origin_path}/model/model.h5')"
   ]
  },
  {
   "cell_type": "markdown",
   "metadata": {},
   "source": [
    "Kết quả huấn luyện trên tập huấn luyện"
   ]
  },
  {
   "cell_type": "code",
   "execution_count": 55,
   "metadata": {},
   "outputs": [
    {
     "data": {
      "image/png": "[encoded data removed]",
      "text/plain": [
       "<Figure size 640x480 with 1 Axes>"
      ]
     },
     "metadata": {},
     "output_type": "display_data"
    }
   ],
   "source": [
    "plt.plot(history.history['acc'])\n",
    "plt.plot(history.history['val_acc'])  # Thêm dòng này để vẽ biểu đồ cho độ chính xác trên tập validation\n",
    "plt.title('Model Accuracy')\n",
    "plt.ylabel('Accuracy')\n",
    "plt.xlabel('Epochs')\n",
    "plt.legend(['Train', 'Validation'], loc='upper left')  # Sửa 'test' thành 'validation'\n",
    "plt.show()"
   ]
  },
  {
   "cell_type": "code",
   "execution_count": 56,
   "metadata": {},
   "outputs": [
    {
     "data": {
      "image/png": "[encoded data removed]",
      "text/plain": [
       "<Figure size 640x480 with 1 Axes>"
      ]
     },
     "metadata": {},
     "output_type": "display_data"
    }
   ],
   "source": [
    "plt.plot(history.history['loss'])\n",
    "plt.plot(history.history['val_loss'])  # Thêm dòng này để vẽ biểu đồ cho giá trị mất mát trên tập validation\n",
    "plt.title('Model Loss')\n",
    "plt.ylabel('Loss')\n",
    "plt.xlabel('Epochs')\n",
    "plt.legend(['Train', 'Validation'], loc='upper left')  # Sửa 'test' thành 'validation'\n",
    "plt.show()"
   ]
  },
  {
   "cell_type": "markdown",
   "metadata": {},
   "source": [
    "Dự đoán ==> Chatbot"
   ]
  },
  {
   "cell_type": "code",
   "execution_count": 57,
   "metadata": {},
   "outputs": [],
   "source": [
    "classes = pickle.load(open(f\"{origin_path}/model/classes.pkl\", \"rb\"))"
   ]
  },
  {
   "cell_type": "code",
   "execution_count": 58,
   "metadata": {},
   "outputs": [],
   "source": [
    "import random\n",
    "def response(tag):\n",
    "    for i in intents['intents']:\n",
    "        if i['tag'] == tag:\n",
    "            return random.choice(i['responses'])"
   ]
  },
  {
   "cell_type": "code",
   "execution_count": 59,
   "metadata": {},
   "outputs": [
    {
     "name": "stdout",
     "output_type": "stream",
     "text": [
      "1/1 [==============================] - 2s 2s/step\n",
      "[[7.46123486e-13 2.07695880e-13 1.51278403e-08 1.12149428e-08\n",
      "  2.81109713e-08 4.36481476e-11 7.96034245e-12 2.98966505e-08\n",
      "  1.95449315e-13 1.52861492e-08 8.11705377e-06 4.94204460e-06\n",
      "  2.18078600e-09 6.07138247e-07 4.19988384e-11 6.66938060e-09\n",
      "  5.83338011e-13 3.41761219e-09 3.92114598e-05 2.84304188e-05\n",
      "  1.24822014e-10 4.05428857e-10 1.05820970e-06 2.38980054e-08\n",
      "  2.30961041e-06 2.72385012e-08 5.13329468e-08 3.52733664e-09\n",
      "  1.11279856e-08 1.66025748e-05 3.56909179e-04 3.34415030e-11\n",
      "  1.10031363e-06 8.59235261e-09 1.00867181e-08 3.25628524e-09\n",
      "  8.21260571e-09 4.18031360e-10 9.94654492e-09 1.50506430e-09\n",
      "  2.73498807e-10 2.59204921e-06 7.42214883e-12 4.34955316e-09\n",
      "  2.29617179e-08 6.60921103e-07 1.71483521e-06 3.11014235e-11\n",
      "  1.90604936e-08 1.83690216e-10 3.20057936e-08 1.78732023e-07\n",
      "  2.47743437e-10 2.07195275e-10 1.44324352e-09 3.06224592e-07\n",
      "  5.83164539e-09 3.41585937e-09 8.72404993e-09 2.66385869e-09\n",
      "  1.09045419e-10 4.90208407e-08 3.90208664e-11 1.03494635e-11\n",
      "  3.30215144e-08 2.19213856e-08 2.90546911e-08 4.43146346e-05\n",
      "  1.67562071e-08 1.22742693e-11 1.28141232e-06 1.16973331e-09\n",
      "  1.67597747e-13 1.62161894e-06 7.04119341e-09 6.53885536e-07\n",
      "  6.92094819e-12 8.14685264e-11 5.02667353e-06 3.97580015e-06\n",
      "  1.71224912e-07 1.28279779e-13 9.99311478e-09 1.73150181e-06\n",
      "  9.98570561e-01 2.06514599e-07 4.44145627e-07 2.70322897e-09\n",
      "  2.56736371e-06 2.70285513e-11 1.69051518e-07 3.70230446e-09\n",
      "  3.06099466e-08 3.93308142e-07 1.67728575e-09 1.30728903e-08\n",
      "  1.14642931e-11 1.01028040e-10 6.47893605e-09 1.26964039e-07\n",
      "  1.19963355e-08 5.37753002e-13 1.12635568e-09 8.51717530e-10\n",
      "  1.28006561e-09 9.97096739e-10 1.07342746e-10 1.26001820e-09\n",
      "  6.89130664e-13 7.38631378e-10 4.78381224e-10 2.05750764e-10\n",
      "  3.93579024e-11 8.29924345e-13 2.76069410e-11 3.28718552e-10\n",
      "  3.21623020e-06 2.75346612e-09 9.82386811e-11 2.82405810e-09\n",
      "  1.61015201e-10 5.97414154e-13 5.83746484e-13 5.03768867e-11\n",
      "  2.14820902e-05 2.59456887e-12 1.29362502e-11 1.84097892e-09\n",
      "  4.88804663e-10 1.04866581e-06 8.27407753e-10 4.29589932e-07\n",
      "  2.42867904e-09 7.16587734e-10 4.81857158e-11 5.99907103e-12\n",
      "  1.39756667e-14 1.90826993e-10 2.53640398e-09 1.11087251e-09\n",
      "  2.47160542e-10 2.00193462e-09 3.31344605e-11 1.60094999e-06\n",
      "  1.19913135e-10 7.43875583e-09 1.20654231e-09 4.45011354e-11\n",
      "  4.81531698e-12 2.20715182e-10 7.42444910e-14 5.65531372e-11\n",
      "  1.19538290e-08 5.02265962e-09 9.60487910e-07 2.10147766e-09\n",
      "  7.76617171e-09 4.00416506e-11 1.05118589e-08 5.63027992e-11\n",
      "  3.99383915e-10 3.60363489e-10 2.66005440e-10 4.38695067e-14\n",
      "  1.40651054e-12 1.19323033e-06 9.85161250e-07 1.11993326e-09\n",
      "  6.14839781e-04 2.94553065e-13 2.17844214e-08 7.18549771e-08\n",
      "  3.28632954e-12 9.64891847e-11 1.08545473e-11 2.45224717e-12\n",
      "  7.47540571e-06 7.59619752e-06 2.40353285e-04 3.53910790e-10\n",
      "  1.70873221e-07 4.13347356e-09]]\n",
      "Chatbot được tạo bởi thầy Võ Đình Hiếu thuộc trường Đào tạo quốc tế, khoa CNPM CMU.\n",
      "Với mục tiêu hỗ trợ giải đáp câu hỏi sinh viên và nâng cao công tác cố vấn học tập\n",
      " giá trị có xác xuất cao nhất\n",
      "chatbot được tạo nên bởi ai?\n"
     ]
    }
   ],
   "source": [
    "message = ['Ai tạo chatbot']\n",
    "message = convert_to_no_accents(message[0])\n",
    "\n",
    "seq = tokenizer.texts_to_sequences([message])\n",
    "\n",
    "padded = pad_sequences(seq, maxlen=40, dtype='int32', value=0)\n",
    "\n",
    "pred = model.predict(padded)\n",
    "\n",
    "# labels = range(0, 113, 1)\n",
    "print(pred)\n",
    "print(response(classes[np.argmax(pred)]))\n",
    "print(\" giá trị có xác xuất cao nhất\")\n",
    "print(classes[np.argmax(pred)])"
   ]
  },
  {
   "cell_type": "code",
   "execution_count": 60,
   "metadata": {},
   "outputs": [
    {
     "name": "stdout",
     "output_type": "stream",
     "text": [
      "{0: 'Cách để đánh giá rèn luyện trên mydtu', 1: 'Khi nào mở lại đánh giá rèn luyện vậy ?', 2: 'Chuyện gì xảy ra khi không đánh giá điểm rèn luyện ?', 3: 'Không khai báo ngoại trú đánh giá điểm rèn luyện được không ?', 4: 'Khi nào mở khai báo ngoại trú ?', 5: 'Tích lũy điểm là gì?', 6: 'Cách để cải thiện điểm rèn luyện ?', 7: 'Cách khai báo ngoại trú ?', 8: 'Đánh giá giảng viên bằng cách nào ?', 9: 'Khám sức khỏe bận có thể khám chung lớp khác được không ?', 10: 'Có cần phải mặc áo trường quốc tế khi học không thầy?', 11: 'BHYT nộp ở đâu ?', 12: 'Quy định và quy chế về gian lận trong phòng thi', 13: 'Mua sách giáo khoa ở đâu ?', 14: 'Cách liên hệ giảng viên cố vấn', 15: 'Tìm phòng học theo ký hiệu trong thời khóa biểu như thế nào?', 16: 'Mất đồ bây giờ làm sao ?', 17: 'Thời gian mở xét tuyển là khi nào?', 18: 'Cách nộp bài tập về nhà trên assiment?', 19: 'Các thông tin khác ?', 20: 'Điều kiện và cách làm đơn phúc khảo bài thi?', 21: 'Điều kiện và cách làm giấy tạm hoãn nghĩa vụ quân sự?', 22: 'Điều kiện và cách làm đơn học vượt ?', 23: 'Điều kiện và cách làm đơn chuyển ngành', 24: 'Điều kiện và cách chuyển điểm?', 25: 'Điều kiện và cách học lại môn học ?', 26: 'Điều kiện và cách làm đơn bảo lưu ?', 27: 'Điều kiện và cách làm thủ tục nhập học lại ?', 28: 'Cách đổi lớp sinh hoạt ?', 29: 'Điều kiện và cách đổi lớp học môn tiếng anh ?', 30: 'Lớp học khác gì lớp sinh hoặc ?', 31: 'Điều kiện và Cách làm đơn tạm hoãn thi và ghép thi ?', 32: 'Anh em học chung có miễn giảm học phí không?', 33: 'Làm sao để vay tiền theo diện sinh viên', 34: 'Điều kiện và cách làm đơn thôi học ?', 35: 'Cách làm đơn mở lớp ?', 36: 'Làm sao để truyển trường', 37: 'Cách làm đơn xem xét tham dự tốt nghiệp đtqt ?', 38: 'Điều kiện và cách hủy môn đã đăng ký ?', 39: 'Khi nào nhận đượckết quả thông báo của đơn từ ?', 40: 'Điều kiện và cách làm làm đơn gia hạn nộp học phí ?', 41: 'Điều kiện và cách đăng ký môn học trên mydtu?', 42: 'Điều kiện và cách làm đơn đăng ký tín chỉ ?', 43: 'Làm sao biết được cô nào dạy lớp nào trước khi đăng ký ?', 44: 'Học phí ngành CMU thuộc trường đào tạo quốc tế là bao nhiêu ?', 45: 'Ngoài học phí thì còn phí gì trong quá trình học không ?', 46: 'Học phí trường đào tạo quốc tế là bao nhiêu ?', 47: 'Học phí có tăng theo từng năm không ?', 48: 'Học phí có tăng không và cách kiểm tra thông tin học phí ?', 49: 'Cách để thanh toán học phí', 50: 'Có thể nộp học phí muộn không ?', 51: 'Xét học bổng theo hình thức nào?', 52: 'Mydtu bị lỗi ?', 53: 'Cách tín tiền số tín chỉ ?', 54: 'Tác dụng của hóa đơn hoặc biên lai thanh toán ?', 55: 'Làm sao để nhận thông tin học phí ?', 56: 'Học lại môn có cần trả học phí không', 57: 'Một học kỳ gồm bao nhiêu chỉ ?', 58: 'Học lại có ảnh hưởng gì không ?', 59: 'Sinh viên cmu cần bao nhiêu chỉ để tốt nghiệp? ', 60: 'Những môn có lý thuyết và thực hành làm sao để học lại ?', 61: 'Điều kiện để hủy môn học hè ?', 62: 'Sau khi đăng ký có thể đổi môn bóng đá sang môn khác được không ?', 63: 'Thông tin về học hè ?', 64: 'Điều kiện qua môn là gì ?', 65: 'Học hè có lợi gì ?', 66: 'Sinh viên phải học bao nhiêu học kỳ?', 67: 'Tại sao phải học hóa, lý toán, triết đại cương?', 68: 'Cách đăng kí môn học ?', 69: 'Cách để theo dõi tiến trình học tập ?', 70: 'Số tín chỉ mỗi môn là bao nhiêu ?', 71: 'Các ngành khác học chung được không ?', 72: 'Tín chỉ đại học là gì?', 73: 'Rớt bao nhiêu chỉ sẽ bị thôi học ?', 74: 'Sự khác biệt ở tín chỉ giữa đào tạo quốc tế và ngành thường', 75: 'Môn nào có thể tự chọn ?', 76: 'Thông tin về ký túc xá duy tân ?', 77: 'Văn phòng của Đào tạo quốc tế ở đâu?', 78: 'Làm sao để liên hệ thầy cô?', 79: 'Thư viện của trường năm ở đâu ?', 80: 'Thông báo lịch nghỉ xem ở đâu ?', 81: 'Khi nào lịch mới thay đổi ?', 82: 'Sinh viên năm nhất khi nào đi ngoại khóa hay thăm doanh nghiệp ?', 83: 'Sinh viên có những hoạt động ngoại khóa và câu lạc bộ nào ?', 84: 'chatbot được tạo nên bởi ai?', 85: 'Điểm nổi bật chương trình CMU là gì ?', 86: 'Làm thế nào để truy cập tài nguyên thư viện và nền tảng học trực tuyến?', 87: 'Trường có phòng ban tư vấn tâm lý không ?', 88: 'Sinh viên học bao nhiêu kỳ ?', 89: 'Cách xem lịch thi ?', 90: 'Ra trường thì có đi nghĩa vụ quân sự không ?', 91: 'Cách làm lại thẻ sinh viên?', 92: 'Tìm thông tin nộp thẻ giữ xe ở đâu?', 93: 'Chương trình CMU có phải du học tại chỗ ?', 94: 'Làm sao để lấy thông tin trường?', 95: 'Làm sao để mua áo quần thể dục ? ', 96: 'Trường có hỗ trợ tìm trọ không ?', 97: 'Cơ hội du học và thực tập nước ngoài ?', 98: 'Trường có hay tổ chức giải thể thao giữa các khoa không?', 99: 'Lấy thông tin các workshop và hội thảo ở đâu ?', 100: 'Đại học Duy Tân có bao nhiêu khoa và ngành học?', 101: 'Đại học Duy Tân hiện đang ở xếp hạng thứ bao nhiên trên thế giới?', 102: 'Trường có tổ chức các sự kiện tình nguyện không ?', 103: 'Trường đại học duy tân có những cơ sở nào ?', 104: 'Mpm có hợp tác với trường không ?', 105: 'Tốt nghiệp làm tại trường được không', 106: 'Làm sao để học 2 ngành cùng lúc ?', 107: 'Tìm tài liệu học tập ở đâu ?', 108: 'Trường có xét tuyển thẳng học sinh theo diện nào ?', 109: 'Sau khi đăng ký xét tuyển và nhận được gmail thông báo kết quả xét tuyển học bạ trực tuyến thì phải làm sao?', 110: 'Văn phòng khoa trường khoa học máy tính ở đâu?', 111: 'Văn phòng khoa trường kinh tế ở đâu?', 112: 'Văn phòng khoa trường y dược ở đâu?', 113: 'Văn phòng khoa trường ngoại ngữ - xã hội và nhân văn ở đâu?', 114: 'Văn phòng khoa trường du lịch ở đâu?', 115: 'Văn phòng khoa viện quản lý Nam ở đâu?', 116: 'Trường có canteen không?', 117: 'Có thi tiếng anh đầu vào không?', 118: 'Có thi tin học đầu vào không?', 119: 'Quy định và quy chế của trường như thế nào?', 120: 'Duy tân có dạy sau đại học không ?', 121: 'Văn phòng Đoàn Thanh Niên ở đâu ?', 122: 'Tìm Trung tâm Tuyển Sinh ở đâu ?', 123: 'Phòng Công tác Sinh Viên tìm ở đâu ?', 124: 'sakai là gì?', 125: 'Tỷ lệ sinh viên có việc làm sau khi tốt nghiệp là bao nhiêu?', 126: 'Trường nằm ở đâu? Giao thông đi lại như thế nào?', 127: 'Đội ngũ giảng viên của trường có trình độ chuyên môn như thế nào?', 128: 'Điều kiện nhận bằng tốt nghiệp là gì?', 129: 'Điều kiện để được làm capstone là gì?', 130: 'Sinh viên CMU có cần thi tin học không ?', 131: 'Khi nào học quân sự ?', 132: 'Đầu ra tiếng anh của trường đào tạo quốc tế bao nhiêu ?', 133: 'Có thể học các ngôn ngữ khác ngoài tiếng anh để ra trường không?', 134: 'Cách xét loại bằng tốt nghiệp ?', 135: 'Điều kiện để nghiên cứu khoa học ?', 136: 'Chương trình CMU có yêu cầu thực tập không ?', 137: 'Thông tin về sự kiện tốt nghiệp thế nào ?', 138: 'Cách thức, thời gian địa điểm nhận bằng, giấy khen, đồ được cấp phát,…?', 139: 'Làm sao biết mình bằng gì ?', 140: 'Một dự án nghiên cứu khoa học cần bao nhiêu thành viên trong team?', 141: 'Capstone cần bao nhiêu thành viên ?', 142: 'Có thể tốt nghiệp sớm nhất bao lâu ?', 143: 'Đồ án ghi bằng tiếng anh hay tiếng việt ?', 144: 'Sinh viên phần mềm cần điều kiện gì để làm capstone ?', 145: 'Sinh viên ngành hệ thống thông tin quản lí cần điều kiện gì để làm capstone ?', 146: 'Cap1 có cần nộp tiền không ?', 147: 'Quy trình nhận bằng tốt nghiệp tại Đại học Duy Tân là gì', 148: 'Có thể nhận bằng sớm đươc không ?', 149: 'Sinh viên xuất sắc sau khi tốt nghiệp có những ưu đãi gì ?', 150: 'Các thủ tục để cấp lại bằng khi bị mất ?', 151: 'Trường có đợt xét tốt nghiệp trễ không ?', 152: 'Bằng tốt nghiệp trông thế nào ?', 153: 'Lộ trình dành cho backend bao gồm những gì ?', 154: 'Lương nghề này cơ bản của ngành IT là bao nhiêu ?', 155: 'Nên chọn ngôn ngữ lập trình nào ?', 156: 'Ngành hệ thông thông tin ra trường làm gì', 157: 'Ngành an ninh mạng ra trường ra trường làm gì', 158: 'Làm sao để chọn ngành thích hợp ?', 159: 'Dùng máy tính kém mà học It thì làm thế nào ?', 160: 'Làm sao để trở thành một kỹ sư phần mềm chuyên nghiệp ?', 161: 'Cách để học lập trình ở đại học hiệu quả ?', 162: 'Hướng đi trong ngành CNPM sau khi đi ra trường?', 163: 'Trường có hỗ trợ cách làm cv hoặc đơn xin việc không ?\\n\\n\\n\\n', 164: 'Trường có hỗ trợ cách làm cv hoặc đơn xin việc không ?\\n\\n\\n\\n\\n\\n', 165: 'Yếu tiếng anh có theo nổi chương trình quốc tế không ?', 166: 'Học IT sau 35 tuổi có thất nghiệp không ?', 167: 'Định hướng nghề nghiệp là gì và tại sao lại quan trọng với sinh viên?', 168: 'Cách học tiếng anh', 169: 'Định hướng nghề nghiệp nên dựa trên sự quan tâm cá nhân hay nhu cầu của thị trường lao động?', 170: 'Có nên tìm kiếm kinh nghiệm làm việc ở các công ty khởi nghiệp hay tập đoàn lớn?', 171: 'Sinh viên cần kĩ năng mềm gì để học tại đại học ?', 172: 'Nên chuẩn bị gì trước khi đi thực tập ?', 173: 'Cách phân chia thời gian học tập hợp lí?', 174: 'Làm thế nào để giữ được sự cân bằng giữa học tập và cuộc sống cá nhân?', 175: 'Có nên đi làm thêm part-time đối với sinh viên học công nghệ thông tin không?', 176: 'Chao_hoi', 177: 'Cam_on', 178: 'Than_Phien', 179: 'Chươnng trình CMU có bao nhiêu ngành?', 180: 'Công dụng của chatbot', 181: 'Tam_Biet'}\n",
      "84\n"
     ]
    }
   ],
   "source": [
    "print(classes)\n",
    "print(np.argmax(pred))"
   ]
  },
  {
   "cell_type": "markdown",
   "metadata": {},
   "source": [
    "random câu hỏi theo chủ đề để train dữ liệu"
   ]
  }
 ],
 "metadata": {
  "kernelspec": {
   "display_name": "Python 3",
   "language": "python",
   "name": "python3"
  },
  "language_info": {
   "codemirror_mode": {
    "name": "ipython",
    "version": 3
   },
   "file_extension": ".py",
   "mimetype": "text/x-python",
   "name": "python",
   "nbconvert_exporter": "python",
   "pygments_lexer": "ipython3",
   "version": "3.8.10"
  }
 },
 "nbformat": 4,
 "nbformat_minor": 2
}
